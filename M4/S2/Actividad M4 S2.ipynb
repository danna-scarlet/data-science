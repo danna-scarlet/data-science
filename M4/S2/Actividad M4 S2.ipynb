{
 "cells": [
  {
   "cell_type": "markdown",
   "id": "506abfd2",
   "metadata": {},
   "source": [
    "Deberás trabajar con un conjunto de datos ficticio para calcular estadísticas descriptivas clave y visualizar la distribución de los datos. Se utilizarán herramientas como Pandas, NumPy y Matplotlib para realizar el análisis.   \n",
    "\n",
    "Requerimientos:   \n",
    "1. Definir Variables (2 puntos)   \n",
    "   * Identificar el tipo de variable (categórica, cuantitativa discreta o continua) de cada columna en el conjunto de datos.\n",
    "2. Construcción de una Tabla de Frecuencia (2 puntos)  \n",
    "   * Generar una tabla de frecuencia para una variable categórica y otra para una variable cuantitativa discreta.   \n",
    "3. Cálculo de Medidas de Tendencia Central (2 puntos)   \n",
    "   * Calcular la media, mediana y moda de una variable cuantitativa.  \n",
    "4. Cálculo de Medidas de Dispersión (2 puntos)  \n",
    "   * Calcular el rango, varianza y desviación estándar de la misma variable utilizada en el punto anterior.  \n",
    "5. Visualización de Datos (2 puntos)  \n",
    "   * Crear un histograma para una variable cuantitativa y un boxplot para otra variable del dataset.  "
   ]
  },
  {
   "cell_type": "code",
   "execution_count": 1,
   "id": "9a6a9395",
   "metadata": {},
   "outputs": [],
   "source": [
    "import pandas as pd\n",
    "import numpy as np \n",
    "import matplotlib.pyplot as plt\n",
    "import seaborn as sns"
   ]
  },
  {
   "cell_type": "code",
   "execution_count": 6,
   "id": "a5b53509",
   "metadata": {},
   "outputs": [
    {
     "name": "stdout",
     "output_type": "stream",
     "text": [
      "DataFrame: \n",
      "    ID  Nombre  Edad  Ingresos     Genero        Ciudad\n",
      "0   1     Ana    25      2500   Femenino          Lima\n",
      "1   2    Juan    30      3200  Masculino        Bogotá\n",
      "2   3    Luis    28      2800  Masculino          Lima\n",
      "3   4   Marta    22      2200   Femenino         Quito\n",
      "4   5   Pedro    35      4100  Masculino      Santiago\n",
      "5   6   Sofía    27      2900   Femenino          Lima\n",
      "6   7  Carlos    29      3100  Masculino  Buenos Aires\n",
      "7   8   Elena    24      2700   Femenino         Quito\n",
      "8   9  Miguel    31      3300  Masculino      Santiago\n",
      "9  10   Paula    26      2600   Femenino  Buenos Aires \n",
      "\n",
      "Info de Dataframe: \n",
      "\n",
      "<class 'pandas.core.frame.DataFrame'>\n",
      "RangeIndex: 100 entries, 0 to 99\n",
      "Data columns (total 6 columns):\n",
      " #   Column    Non-Null Count  Dtype \n",
      "---  ------    --------------  ----- \n",
      " 0   ID        100 non-null    int64 \n",
      " 1   Nombre    100 non-null    object\n",
      " 2   Edad      100 non-null    int64 \n",
      " 3   Ingresos  100 non-null    int64 \n",
      " 4   Genero    100 non-null    object\n",
      " 5   Ciudad    100 non-null    object\n",
      "dtypes: int64(3), object(3)\n",
      "memory usage: 4.8+ KB\n",
      "None\n"
     ]
    }
   ],
   "source": [
    "# Cargar el conjunto de datos ficticio\n",
    "df = pd.read_csv(\"C:\\\\Users\\\\danna\\\\OneDrive\\\\Documentos\\\\GitHub\\\\data-science\\\\M4\\\\datos_estadistica.csv\")\n",
    "print(f\"DataFrame: \\n {df.head(10)} \\n\")\n",
    "\n",
    "print(\"Info de Dataframe: \\n\")\n",
    "print(df.info())"
   ]
  },
  {
   "cell_type": "markdown",
   "id": "54d101b1",
   "metadata": {},
   "source": [
    "1. Definir Variables:   \n",
    "Identificar el tipo de variable de cada columna\n",
    "\n",
    "  *  ID | Cuantitativa discreta  \n",
    "  *  Nombre | Cualitativa Categórica  \n",
    "  *  Edad | Cuantitativa discreta  \n",
    "  *  Ingresos | Cuantitativa continua  \n",
    "  *  Género | Cualitativa Categórica  \n",
    "  *  Ciudad | Cualitativa Categórica  "
   ]
  },
  {
   "cell_type": "code",
   "execution_count": 7,
   "id": "6246b596",
   "metadata": {},
   "outputs": [
    {
     "name": "stdout",
     "output_type": "stream",
     "text": [
      "2. Tabla de frecuencia para variable género: \n",
      "            Frecuencia Absoluta  Frecuencia Relativa  Frecuencia Acumulada  \\\n",
      "Genero                                                                      \n",
      "Femenino                    50                  0.5                    50   \n",
      "Masculino                   50                  0.5                   100   \n",
      "\n",
      "           Frecuencia Relativa Acumulada  \n",
      "Genero                                    \n",
      "Femenino                             0.5  \n",
      "Masculino                            1.0   \n",
      "\n",
      "2. Tabla de frecuencia para variable edad: \n",
      "       Frecuencia Absoluta  Frecuencia Relativa  Frecuencia Acumulada  \\\n",
      "Edad                                                                   \n",
      "22                      5                 0.05                     5   \n",
      "23                      5                 0.05                    10   \n",
      "24                     10                 0.10                    20   \n",
      "25                      6                 0.06                    26   \n",
      "26                     10                 0.10                    36   \n",
      "27                     14                 0.14                    50   \n",
      "28                     10                 0.10                    60   \n",
      "29                     10                 0.10                    70   \n",
      "30                      5                 0.05                    75   \n",
      "31                      5                 0.05                    80   \n",
      "32                      5                 0.05                    85   \n",
      "33                      5                 0.05                    90   \n",
      "34                      5                 0.05                    95   \n",
      "35                      5                 0.05                   100   \n",
      "\n",
      "      Frecuencia Relativa Acumulada  \n",
      "Edad                                 \n",
      "22                             0.05  \n",
      "23                             0.10  \n",
      "24                             0.20  \n",
      "25                             0.26  \n",
      "26                             0.36  \n",
      "27                             0.50  \n",
      "28                             0.60  \n",
      "29                             0.70  \n",
      "30                             0.75  \n",
      "31                             0.80  \n",
      "32                             0.85  \n",
      "33                             0.90  \n",
      "34                             0.95  \n",
      "35                             1.00   \n",
      "\n"
     ]
    }
   ],
   "source": [
    "# 2. Construcción de una Tabla de Frecuencia\n",
    "# Tabla de frecuencia para una variable categórica (Género)\n",
    "tabla_frecuencia_genero = df[\"Genero\"].value_counts().sort_index().to_frame(\"Frecuencia Absoluta\")\n",
    "tabla_frecuencia_genero[\"Frecuencia Relativa\"] = tabla_frecuencia_genero[\"Frecuencia Absoluta\"] / tabla_frecuencia_genero[\"Frecuencia Absoluta\"].sum()\n",
    "tabla_frecuencia_genero[\"Frecuencia Acumulada\"] = tabla_frecuencia_genero[\"Frecuencia Absoluta\"].cumsum()\n",
    "tabla_frecuencia_genero[\"Frecuencia Relativa Acumulada\"] = tabla_frecuencia_genero[\"Frecuencia Relativa\"].cumsum()\n",
    "print(f'2. Tabla de frecuencia para variable género: \\n {tabla_frecuencia_genero} \\n')\n",
    "\n",
    "# Tabla de frecuencia para una variable cuantitativa discreta (Edad)\n",
    "tabla_frecuencia_edad = df[\"Edad\"].value_counts().sort_index().to_frame(\"Frecuencia Absoluta\")\n",
    "tabla_frecuencia_edad[\"Frecuencia Relativa\"] = tabla_frecuencia_edad[\"Frecuencia Absoluta\"] / tabla_frecuencia_edad[\"Frecuencia Absoluta\"].sum()\n",
    "tabla_frecuencia_edad[\"Frecuencia Acumulada\"] = tabla_frecuencia_edad[\"Frecuencia Absoluta\"].cumsum()\n",
    "tabla_frecuencia_edad[\"Frecuencia Relativa Acumulada\"] = tabla_frecuencia_edad[\"Frecuencia Relativa\"].cumsum()\n",
    "print(f'2. Tabla de frecuencia para variable edad: \\n {tabla_frecuencia_edad} \\n')"
   ]
  },
  {
   "cell_type": "code",
   "execution_count": 8,
   "id": "00ae64da",
   "metadata": {},
   "outputs": [
    {
     "name": "stdout",
     "output_type": "stream",
     "text": [
      "Media de la variable ingresos: 2998.00\n",
      "Mediana de la variable ingresos: 2900.00\n",
      "Moda de la variable ingresos: 2900.00\n"
     ]
    }
   ],
   "source": [
    "# 3. Cálculo de Medidas de Tendencia Central\n",
    "# Calcular la media, mediana y moda de la variable Ingresos \n",
    "media = df['Ingresos'].mean()\n",
    "mediana = df['Ingresos'].median()\n",
    "moda = df['Ingresos'].mode()[0]\n",
    "\n",
    "print(f'Media de la variable ingresos: {media:.2f}')\n",
    "print(f'Mediana de la variable ingresos: {mediana:.2f}')\n",
    "print(f'Moda de la variable ingresos: {moda:.2f}')"
   ]
  },
  {
   "cell_type": "code",
   "execution_count": 9,
   "id": "b77f2891",
   "metadata": {},
   "outputs": [
    {
     "name": "stdout",
     "output_type": "stream",
     "text": [
      "Rango de la variable ingresos: 1900\n",
      "Varianza de la variable ingresos: 226814.14141414143\n",
      "Desviación estándar de la variable ingresos: 476.2500828494851\n"
     ]
    }
   ],
   "source": [
    "# 4. Cálculo de Medidas de Dispersión\n",
    "# Calcular el rango, varianza y desviación estándar de la variable Ingresos \n",
    "categoria = df['Ingresos']\n",
    "rango = categoria.max() - categoria.min()\n",
    "varianza = categoria.var()\n",
    "desviacion_estandar = categoria.std()\n",
    "print(f'Rango de la variable ingresos: {rango}')\n",
    "print(f'Varianza de la variable ingresos: {varianza}')\n",
    "print(f'Desviación estándar de la variable ingresos: {desviacion_estandar}')"
   ]
  },
  {
   "cell_type": "code",
   "execution_count": 10,
   "id": "dd8c14f9",
   "metadata": {},
   "outputs": [
    {
     "data": {
      "image/png": "[encoded data removed]",
      "text/plain": [
       "<Figure size 640x480 with 1 Axes>"
      ]
     },
     "metadata": {},
     "output_type": "display_data"
    },
    {
     "data": {
      "image/png": "[encoded data removed]",
      "text/plain": [
       "<Figure size 1000x600 with 1 Axes>"
      ]
     },
     "metadata": {},
     "output_type": "display_data"
    }
   ],
   "source": [
    "#5. Visualización de Datos\n",
    "# Histograma para la variable Ingresos  \n",
    "plt.hist(df[\"Ingresos\"], bins=5, edgecolor=\"black\")\n",
    "plt.xlabel(\"Ingresos\")\n",
    "plt.ylabel(\"Frecuencia\")\n",
    "plt.title(\"Histograma de Ingresos\")\n",
    "plt.show()\n",
    "\n",
    "# Boxplot para la variable Edad\n",
    "plt.figure(figsize=(10, 6))\n",
    "sns.boxplot(x=df['Edad'], color='skyblue')\n",
    "plt.title('Boxplot de Edad', fontsize=16, fontweight='bold')\n",
    "plt.xlabel('Edad', fontsize=12)\n",
    "plt.grid(axis='y', alpha=0.3)\n",
    "plt.grid(axis='y', color='gray', linestyle='dashed', linewidth=0.5)\n",
    "plt.tight_layout()\n",
    "plt.show()"
   ]
  }
 ],
 "metadata": {
  "kernelspec": {
   "display_name": "base",
   "language": "python",
   "name": "python3"
  },
  "language_info": {
   "codemirror_mode": {
    "name": "ipython",
    "version": 3
   },
   "file_extension": ".py",
   "mimetype": "text/x-python",
   "name": "python",
   "nbconvert_exporter": "python",
   "pygments_lexer": "ipython3",
   "version": "3.12.7"
  }
 },
 "nbformat": 4,
 "nbformat_minor": 5
}
