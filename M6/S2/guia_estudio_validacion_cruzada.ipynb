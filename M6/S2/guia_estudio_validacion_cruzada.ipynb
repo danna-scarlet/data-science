{
 "cells": [
  {
   "cell_type": "markdown",
   "id": "2e448435",
   "metadata": {},
   "source": [
    "# Nivel de Ajuste de un Modelo y Tipos de Error\n",
    "Un buen ajuste implica capturar patrones sin caer en el sobreajuste ni en el subajuste. Es crucial para lograr predicciones precisas y generalizables."
   ]
  },
  {
   "cell_type": "markdown",
   "id": "97860bcf",
   "metadata": {},
   "source": [
    "## Tipos de error para evaluar un modelo:\n",
    "- **Error de entrenamiento:** Diferencia entre predicciones y valores reales en el conjunto de entrenamiento. Suele ser bajo, pero no garantiza buen rendimiento en datos nuevos."
   ]
  },
  {
   "cell_type": "code",
   "execution_count": 1,
   "id": "ff2c6ed1",
   "metadata": {},
   "outputs": [],
   "source": [
    "import numpy as np\n",
    "from sklearn.model_selection import train_test_split\n",
    "from sklearn.linear_model import LinearRegression\n",
    "from sklearn.metrics import mean_squared_error, mean_absolute_error, r2_score"
   ]
  },
  {
   "cell_type": "code",
   "execution_count": 2,
   "id": "65232479",
   "metadata": {},
   "outputs": [
    {
     "name": "stdout",
     "output_type": "stream",
     "text": [
      "Error de Entrenamiento (MSE): 0.8477\n",
      "R2 de Entrenamiento: 0.7582\n"
     ]
    }
   ],
   "source": [
    "# Datos de ejemplo para regresión lineal simple\n",
    "np.random.seed(42)\n",
    "X = 2 * np.random.rand(100, 1)\n",
    "y = 4 + 3 * X + np.random.randn(100, 1)\n",
    "X_train, X_test, y_train, y_test = train_test_split(X, y, test_size=0.2, random_state=42)\n",
    "model = LinearRegression()\n",
    "model.fit(X_train, y_train)\n",
    "y_train_pred = model.predict(X_train)\n",
    "training_error = mean_squared_error(y_train, y_train_pred)\n",
    "training_r2 = r2_score(y_train, y_train_pred)\n",
    "\n",
    "print(f'Error de Entrenamiento (MSE): {training_error:.4f}')\n",
    "print(f'R2 de Entrenamiento: {training_r2:.4f}')"
   ]
  },
  {
   "cell_type": "markdown",
   "id": "321af67c",
   "metadata": {},
   "source": [
    "## Error de Validación y Error de Prueba\n",
    "- **Error de validación:** Evalúa el modelo en datos no usados en el entrenamiento. Ayuda a identificar sobreajuste.\n",
    "- **Error de prueba:** Se mide en un conjunto independiente, reservado hasta el final."
   ]
  },
  {
   "cell_type": "code",
   "execution_count": 3,
   "id": "be415e7e",
   "metadata": {},
   "outputs": [
    {
     "name": "stdout",
     "output_type": "stream",
     "text": [
      "Error de Prueba (MSE): 0.6537\n",
      "R2 de Prueba: 0.8072\n"
     ]
    }
   ],
   "source": [
    "y_val_pred = model.predict(X_test)\n",
    "# validation_error = mean_squared_error(y_test, y_val_pred)\n",
    "# print(f'Error de Validación (MSE): {validation_error:.4f}')\n",
    "test_error = mean_squared_error(y_test, y_val_pred)\n",
    "print(f'Error de Prueba (MSE): {test_error:.4f}')\n",
    "test_r2 = r2_score(y_test, y_val_pred)\n",
    "print(f'R2 de Prueba: {test_r2:.4f}')"
   ]
  },
  {
   "cell_type": "markdown",
   "id": "32c29211",
   "metadata": {},
   "source": [
    "## Sobreajuste (Overfitting)\n",
    "El modelo se ajusta demasiado a los datos de entrenamiento, capturando ruido y anomalías."
   ]
  },
  {
   "cell_type": "code",
   "execution_count": 4,
   "id": "13a50aca",
   "metadata": {},
   "outputs": [
    {
     "name": "stdout",
     "output_type": "stream",
     "text": [
      "Modelo con grado polinomial 15 (potencialmente sobreajustado):\n",
      "  Error de Entrenamiento (MSE): 0.0082\n",
      "  Error de Prueba (MSE): 0.0134\n",
      "  R2 de Entrenamiento: 0.1767\n",
      "  R2 de Prueba: -0.3744\n"
     ]
    }
   ],
   "source": [
    "from sklearn.preprocessing import PolynomialFeatures\n",
    "from sklearn.pipeline import make_pipeline\n",
    "np.random.seed(0)\n",
    "X_overfit = np.sort(np.random.rand(100, 1) * 10, axis=0)\n",
    "y_overfit = np.sin(X_overfit).ravel() + np.random.normal(0, 0.1, X_overfit.shape)\n",
    "X_train_over, X_test_over, y_train_over, y_test_over = train_test_split(X_overfit, y_overfit, test_size=0.3, random_state=0)\n",
    "\n",
    "# Modelo sobreajustado\n",
    "degree = 15\n",
    "overfit_model = make_pipeline(PolynomialFeatures(degree), LinearRegression())\n",
    "overfit_model.fit(X_train_over, y_train_over)\n",
    "train_pred_over = overfit_model.predict(X_train_over)\n",
    "test_pred_over = overfit_model.predict(X_test_over)\n",
    "train_error_over = mean_squared_error(y_train_over, train_pred_over)\n",
    "test_error_over = mean_squared_error(y_test_over, test_pred_over)\n",
    "print(f'Modelo con grado polinomial {degree} (potencialmente sobreajustado):')\n",
    "print(f'  Error de Entrenamiento (MSE): {train_error_over:.4f}')\n",
    "print(f'  Error de Prueba (MSE): {test_error_over:.4f}')\n",
    "print(f'  R2 de Entrenamiento: {r2_score(y_train_over, train_pred_over):.4f}')\n",
    "print(f'  R2 de Prueba: {r2_score(y_test_over, test_pred_over):.4f}')"
   ]
  },
  {
   "cell_type": "markdown",
   "id": "b384ebb1",
   "metadata": {},
   "source": [
    "## Subajuste (Underfitting) y Ajuste Apropiado\n",
    "El subajuste ocurre cuando el modelo es demasiado simple. El ajuste apropiado equilibra complejidad y generalización."
   ]
  },
  {
   "cell_type": "code",
   "execution_count": 5,
   "id": "9588138f",
   "metadata": {},
   "outputs": [
    {
     "name": "stdout",
     "output_type": "stream",
     "text": [
      "Modelo con grado polinomial 1 (subajustado):\n",
      "  Error de Entrenamiento (MSE): 0.0090\n",
      "  Error de Prueba (MSE): 0.0115\n",
      "Modelo con grado polinomial 3 (ajuste apropiado):\n",
      "  Error de Entrenamiento (MSE): 0.0090\n",
      "  Error de Prueba (MSE): 0.0115\n",
      "  R2 de Entrenamiento: 0.1019\n",
      "  R2 de Prueba: -0.1831\n"
     ]
    }
   ],
   "source": [
    "# Modelo subajustado y ajuste apropiado\n",
    "degree_under = 1\n",
    "underfit_model = make_pipeline(PolynomialFeatures(degree_under), LinearRegression())\n",
    "underfit_model.fit(X_train_over, y_train_over)\n",
    "train_pred_under = underfit_model.predict(X_train_over)\n",
    "test_pred_under = underfit_model.predict(X_test_over)\n",
    "train_error_under = mean_squared_error(y_train_over, train_pred_under)\n",
    "test_error_under = mean_squared_error(y_test_over, test_pred_under)\n",
    "print(f'Modelo con grado polinomial {degree_under} (subajustado):')\n",
    "print(f'  Error de Entrenamiento (MSE): {train_error_under:.4f}')\n",
    "print(f'  Error de Prueba (MSE): {test_error_under:.4f}')\n",
    "\n",
    "# Ajuste apropiado\n",
    "degree_proper = 3\n",
    "proper_fit_model = make_pipeline(PolynomialFeatures(degree_proper), LinearRegression())\n",
    "proper_fit_model.fit(X_train_over, y_train_over)\n",
    "train_pred_proper = proper_fit_model.predict(X_train_over)\n",
    "test_pred_proper = proper_fit_model.predict(X_test_over)\n",
    "train_error_proper = mean_squared_error(y_train_over, train_pred_proper)\n",
    "test_error_proper = mean_squared_error(y_test_over, test_pred_proper)\n",
    "print(f'Modelo con grado polinomial {degree_proper} (ajuste apropiado):')\n",
    "print(f'  Error de Entrenamiento (MSE): {train_error_proper:.4f}')\n",
    "print(f'  Error de Prueba (MSE): {test_error_proper:.4f}')\n",
    "print(f'  R2 de Entrenamiento: {r2_score(y_train_over, train_pred_proper):.4f}')\n",
    "print(f'  R2 de Prueba: {r2_score(y_test_over, test_pred_proper):.4f}')"
   ]
  },
  {
   "cell_type": "markdown",
   "id": "3a30a120",
   "metadata": {},
   "source": [
    "## Trade-Off entre Sesgo y Varianza\n",
    "- **Sesgo:** Error por suposiciones simplificadas. Alto sesgo = subajuste.\n",
    "- **Varianza:** Sensibilidad excesiva a los datos de entrenamiento. Alta varianza = sobreajuste."
   ]
  },
  {
   "cell_type": "markdown",
   "id": "65048bc3",
   "metadata": {},
   "source": [
    "## Validación Cruzada: Definición y Objetivo\n",
    "La validación cruzada evalúa el rendimiento de un modelo dividiendo los datos en varios subconjuntos y rotando el conjunto de validación."
   ]
  },
  {
   "cell_type": "code",
   "execution_count": 6,
   "id": "f6c6f15e",
   "metadata": {},
   "outputs": [
    {
     "name": "stdout",
     "output_type": "stream",
     "text": [
      "[[5.1 3.5 1.4 0.2]\n",
      " [4.9 3.  1.4 0.2]\n",
      " [4.7 3.2 1.3 0.2]\n",
      " [4.6 3.1 1.5 0.2]\n",
      " [5.  3.6 1.4 0.2]]\n",
      "[0 0 0 0 0]\n",
      "Resultados de Validación Cruzada (RMSE) con K-Fold (k=5):\n",
      "Scores para cada fold: [0.1926 0.2071 0.2311 0.2513 0.2186]\n",
      "Error promedio (RMSE) en datos no vistos: 0.2201\n",
      "R2 del modelo: 0.9240\n"
     ]
    }
   ],
   "source": [
    "from sklearn.model_selection import KFold, cross_val_score\n",
    "from sklearn.datasets import load_iris # https://scikit-learn.org/stable/modules/generated/sklearn.datasets.load_iris.html\n",
    "\n",
    "'''\n",
    "load_iris() es un dataset de ejemplo incluido en Scikit-Learn.\n",
    "Este dataset contiene información sobre flores de iris y se usa comúnmente para practicar clasificación y regresión.\n",
    "\n",
    "¿Qué contiene?\n",
    "\n",
    "iris['data']: Matriz con las características de cada flor (largo y ancho de sépalos y pétalos).\n",
    "iris['target']: Vector con la clase de cada flor (0, 1 o 2, que representan tres especies de iris).\n",
    "También incluye información adicional como nombres de las clases y descripción.\n",
    "Uso típico:\n",
    "Se utiliza para aprender y probar algoritmos de machine learning, ya que es pequeño, limpio y bien conocido.\n",
    "'''\n",
    "\n",
    "iris = load_iris()\n",
    "print(iris['data'][:5]) # muestra de los primeros 5 registros\n",
    "print(iris['target'][:5]) # muestra de los primeros 5 objetivos\n",
    "X_iris, y_iris = iris.data, iris.target\n",
    "# Validación cruzada con K-Fold (k=5) para el dataset Iris\n",
    "model_iris = LinearRegression()\n",
    "kf = KFold(n_splits=5, shuffle=True, random_state=42)\n",
    "scores = cross_val_score(model_iris, X_iris, y_iris, cv=kf, scoring='neg_mean_squared_error')\n",
    "rmse_scores = np.sqrt(-scores)\n",
    "print(f'Resultados de Validación Cruzada (RMSE) con K-Fold (k=5):')\n",
    "print(f'Scores para cada fold: {rmse_scores.round(4)}')\n",
    "print(f'Error promedio (RMSE) en datos no vistos: {rmse_scores.mean():.4f}')\n",
    "print(f'R2 del modelo: {cross_val_score(model_iris, X_iris, y_iris, cv=kf, scoring=\"r2\").mean():.4f}')"
   ]
  },
  {
   "cell_type": "markdown",
   "id": "a3804f79",
   "metadata": {},
   "source": [
    "## Beneficios de la Validación Cruzada\n",
    "- Estimación robusta del rendimiento.\n",
    "- Ayuda a evitar sobreajuste.\n",
    "- Maximiza el uso de los datos disponibles."
   ]
  },
  {
   "cell_type": "markdown",
   "id": "8e161aa9",
   "metadata": {},
   "source": [
    "## Técnicas de Validación Cruzada\n",
    "- **Hold-Out:** Divide en entrenamiento y prueba una sola vez.\n",
    "- **k-Fold:** Divide en k partes y rota el conjunto de validación.\n",
    "- **Random Subsampling:** Divide aleatoriamente varias veces.\n",
    "- **Leave-One-Out:** Cada muestra es usada una vez como prueba."
   ]
  },
  {
   "cell_type": "code",
   "execution_count": 7,
   "id": "7413097e",
   "metadata": {},
   "outputs": [
    {
     "name": "stdout",
     "output_type": "stream",
     "text": [
      "Método de Retención (Hold-Out) - Error de Prueba (MSE): 0.0387\n",
      "Método de Retención (Hold-Out) - Error de Prueba (MAE): 0.1533\n",
      "Método de Retención (Hold-Out) - R2: 0.9442\n"
     ]
    }
   ],
   "source": [
    "from sklearn.model_selection import ShuffleSplit, LeaveOneOut\n",
    "\n",
    "# Método de Retención (Hold-Out)\n",
    "X_train_hold, X_test_hold, y_train_hold, y_test_hold = train_test_split(X_iris, y_iris, test_size=0.3, random_state=42)\n",
    "model_hold = LinearRegression()\n",
    "model_hold.fit(X_train_hold, y_train_hold)\n",
    "hold_out_error = mean_squared_error(y_test_hold, model_hold.predict(X_test_hold))\n",
    "hold_out_mae = mean_absolute_error(y_test_hold, model_hold.predict(X_test_hold))\n",
    "\n",
    "print(f'Método de Retención (Hold-Out) - Error de Prueba (MSE): {hold_out_error:.4f}')\n",
    "print(f'Método de Retención (Hold-Out) - Error de Prueba (MAE): {hold_out_mae:.4f}')\n",
    "print(f'Método de Retención (Hold-Out) - R2: {r2_score(y_test_hold, model_hold.predict(X_test_hold)):.4f}')"
   ]
  },
  {
   "cell_type": "code",
   "execution_count": 8,
   "id": "02fabeb8",
   "metadata": {},
   "outputs": [
    {
     "name": "stdout",
     "output_type": "stream",
     "text": [
      "Random Subsampling (10 iteraciones) - Error promedio (RMSE): 0.2155\n",
      "Random Subsampling (10 iteraciones) - MAE por iteración: [0.0371 0.0407 0.0443 0.0541 0.0591 0.0442 0.0532 0.0341 0.0456 0.0555]\n",
      "Random Subsampling (10 iteraciones) - Promedio MAE: 0.0468\n",
      "Random Subsampling (10 iteraciones) - R2: 0.9250\n"
     ]
    }
   ],
   "source": [
    "# Validación Cruzada con Random Subsampling\n",
    "ss = ShuffleSplit(n_splits=10, test_size=0.2, random_state=42)\n",
    "random_subsampling_scores = cross_val_score(model_iris, X_iris, y_iris, cv=ss, scoring='neg_mean_squared_error')\n",
    "random_subsampling_mae_scores = -random_subsampling_scores  # Convertir a valores positivos\n",
    "\n",
    "print(f'Random Subsampling (10 iteraciones) - Error promedio (RMSE): {np.sqrt(-random_subsampling_scores).mean():.4f}')\n",
    "print(f'Random Subsampling (10 iteraciones) - MAE por iteración: {random_subsampling_mae_scores.round(4)}')\n",
    "print(f'Random Subsampling (10 iteraciones) - Promedio MAE: {random_subsampling_mae_scores.mean():.4f}')\n",
    "print(f'Random Subsampling (10 iteraciones) - R2: {cross_val_score(model_iris, X_iris, y_iris, cv=ss, scoring=\"r2\").mean():.4f}')"
   ]
  },
  {
   "cell_type": "code",
   "execution_count": 9,
   "id": "7e214ba3",
   "metadata": {},
   "outputs": [
    {
     "name": "stdout",
     "output_type": "stream",
     "text": [
      "Leave-One-Out (LOO) - Error promedio (RMSE): 0.1709\n",
      "Leave-One-Out (LOO) - Promedio MAE: 0.0495\n",
      "Nota: El R² en Leave-One-Out puede no ser representativo debido al tamaño mínimo de los folds.\n"
     ]
    }
   ],
   "source": [
    "# Validación Cruzada con Leave-One-Out\n",
    "loo = LeaveOneOut()\n",
    "loo_scores = cross_val_score(model_iris, X_iris, y_iris, cv=loo, scoring='neg_mean_squared_error')\n",
    "loo_mae_scores = -loo_scores  # Convertir a valores positivos\n",
    "print(f'Leave-One-Out (LOO) - Error promedio (RMSE): {np.sqrt(-loo_scores).mean():.4f}')\n",
    "# print(f'Leave-One-Out (LOO) - MAE por muestra: {loo_mae_scores.round(4)}')\n",
    "print(f'Leave-One-Out (LOO) - Promedio MAE: {loo_mae_scores.mean():.4f}')\n",
    "print(\"Nota: El R² en Leave-One-Out puede no ser representativo debido al tamaño mínimo de los folds.\")\n",
    "# print(f'Leave-One-Out (LOO) - R2: {cross_val_score(model_iris, X_iris, y_iris, cv=loo, scoring=\"r2\").mean():.4f}')"
   ]
  },
  {
   "cell_type": "code",
   "execution_count": 10,
   "id": "f9075141",
   "metadata": {},
   "outputs": [
    {
     "name": "stdout",
     "output_type": "stream",
     "text": [
      "k-Fold (k=5) - Error promedio (RMSE): 0.2201\n",
      "k-Fold (k=5) - MAE por fold: [0.0371 0.0429 0.0534 0.0632 0.0478]\n",
      "k-Fold (k=5) - Promedio MAE: 0.0489\n",
      "k-Fold (k=5) - R2: 0.9240\n"
     ]
    }
   ],
   "source": [
    "# Validación Cruzada k-Fold\n",
    "from sklearn.model_selection import KFold\n",
    "kf = KFold(n_splits=5, shuffle=True, random_state=42)\n",
    "kfold_scores = cross_val_score(model_iris, X_iris, y_iris, cv=kf, scoring='neg_mean_squared_error')\n",
    "mae_scores = -kfold_scores  # Convertir a valores positivos\n",
    "print(f'k-Fold (k=5) - Error promedio (RMSE): {np.sqrt(-kfold_scores).mean():.4f}')\n",
    "print(f'k-Fold (k=5) - MAE por fold: {mae_scores.round(4)}')\n",
    "print(f'k-Fold (k=5) - Promedio MAE: {mae_scores.mean():.4f}')\n",
    "print(f'k-Fold (k=5) - R2: {cross_val_score(model_iris, X_iris, y_iris, cv=kf, scoring=\"r2\").mean():.4f}')"
   ]
  },
  {
   "cell_type": "markdown",
   "id": "1337e0a2",
   "metadata": {},
   "source": [
    "## Implementación en Scikit-Learn\n",
    "- Importa las librerías necesarias.\n",
    "- Carga y prepara los datos.\n",
    "- Selecciona el método de validación cruzada adecuado."
   ]
  },
  {
   "cell_type": "markdown",
   "id": "ce87703b",
   "metadata": {},
   "source": [
    "## Evaluación y Comparación\n",
    "Utiliza `cross_val_score` para comparar el rendimiento de diferentes métodos de validación cruzada."
   ]
  },
  {
   "cell_type": "code",
   "execution_count": 12,
   "id": "aceabc84",
   "metadata": {},
   "outputs": [],
   "source": [
    "#Importar librerias\n",
    "import numpy as np\n",
    "from sklearn.datasets import load_iris\n",
    "from sklearn.ensemble import RandomForestClassifier\n",
    "from sklearn.model_selection import (\n",
    "    KFold,\n",
    "    LeaveOneOut,\n",
    "    StratifiedKFold,\n",
    "    ShuffleSplit,\n",
    "    cross_val_score\n",
    ")"
   ]
  },
  {
   "cell_type": "code",
   "execution_count": 13,
   "id": "75256937",
   "metadata": {},
   "outputs": [],
   "source": [
    "#Cargar dataset\n",
    "data = load_iris()\n",
    "X = data.data\n",
    "y = data.target"
   ]
  },
  {
   "cell_type": "code",
   "execution_count": 14,
   "id": "a02296f0",
   "metadata": {},
   "outputs": [
    {
     "name": "stdout",
     "output_type": "stream",
     "text": [
      "Puntuaciones de k-Fold Cross-Validation: [1.         0.96666667 0.93333333 0.93333333 0.96666667]\n",
      "Puntuación media: 0.9600000000000002\n"
     ]
    }
   ],
   "source": [
    "#Implementacion de kfold\n",
    "\n",
    "#Configurar k-fold cross-validation\n",
    "kf = KFold(n_splits=5, shuffle=True, random_state=42)\n",
    "\n",
    "#Evaluar modelo con k-fold\n",
    "model = RandomForestClassifier(random_state=42)\n",
    "scores = cross_val_score(model, X, y, cv=kf)\n",
    "\n",
    "#Mostrar resultados\n",
    "print(\"Puntuaciones de k-Fold Cross-Validation:\", scores)\n",
    "print(\"Puntuación media:\", np.mean(scores))"
   ]
  },
  {
   "cell_type": "code",
   "execution_count": 15,
   "id": "13edbb46",
   "metadata": {},
   "outputs": [
    {
     "name": "stdout",
     "output_type": "stream",
     "text": [
      "Puntuaciones de Leave-One-Out Cross-Validation: [1. 1. 1. 1. 1. 1. 1. 1. 1. 1. 1. 1. 1. 1. 1. 1. 1. 1. 1. 1. 1. 1. 1. 1.\n",
      " 1. 1. 1. 1. 1. 1. 1. 1. 1. 1. 1. 1. 1. 1. 1. 1. 1. 1. 1. 1. 1. 1. 1. 1.\n",
      " 1. 1. 1. 1. 1. 1. 1. 1. 1. 1. 1. 1. 1. 1. 1. 1. 1. 1. 1. 1. 1. 1. 0. 1.\n",
      " 1. 1. 1. 1. 1. 0. 1. 1. 1. 1. 1. 0. 1. 1. 1. 1. 1. 1. 1. 1. 1. 1. 1. 1.\n",
      " 1. 1. 1. 1. 1. 1. 1. 1. 1. 1. 0. 1. 1. 1. 1. 1. 1. 1. 1. 1. 1. 1. 1. 0.\n",
      " 1. 1. 1. 1. 1. 1. 1. 1. 1. 0. 1. 1. 1. 0. 1. 1. 1. 1. 1. 1. 1. 1. 1. 1.\n",
      " 1. 1. 1. 1. 1. 1.]\n",
      "Puntuación media: 0.9533333333333334\n"
     ]
    }
   ],
   "source": [
    "#Implementacion de Leave-One-Out\n",
    "\n",
    "#Configurar leave-one-out cross-validation\n",
    "loo = LeaveOneOut()\n",
    "\n",
    "#Evaluar modelo con leave-one-out\n",
    "scores = cross_val_score(model, X, y, cv=loo)\n",
    "\n",
    "#Mostrar resultados\n",
    "print(\"Puntuaciones de Leave-One-Out Cross-Validation:\", scores)\n",
    "print(\"Puntuación media:\", np.mean(scores))"
   ]
  },
  {
   "cell_type": "code",
   "execution_count": 16,
   "id": "bed88c68",
   "metadata": {},
   "outputs": [
    {
     "name": "stdout",
     "output_type": "stream",
     "text": [
      "Puntuaciones de Random Subsampling: [1.         0.96666667 0.96666667 0.93333333 0.93333333 1.\n",
      " 0.9        0.96666667 1.         0.93333333]\n",
      "Puntuación media: 0.96\n"
     ]
    }
   ],
   "source": [
    "#Implementacion de Random Subsampling (Monte Carlo Cross-Validation)\n",
    "\n",
    "#Configurar random subsampling cross-validation\n",
    "rs = ShuffleSplit(n_splits=10, test_size=0.2, random_state=42)\n",
    "\n",
    "#Evaluar modelo con random subsampling\n",
    "scores = cross_val_score(model, X, y, cv=rs)\n",
    "\n",
    "#Mostrar resultados\n",
    "print(\"Puntuaciones de Random Subsampling:\", scores)\n",
    "print(\"Puntuación media:\", np.mean(scores))"
   ]
  },
  {
   "cell_type": "code",
   "execution_count": 18,
   "id": "666c1670",
   "metadata": {},
   "outputs": [
    {
     "name": "stdout",
     "output_type": "stream",
     "text": [
      "\n",
      "Comparación de métodos de validación cruzada:\n",
      "k-Fold: 0.9600000000000002\n",
      "LOOCV: 0.9533333333333334\n",
      "Random Subsampling: 0.96\n"
     ]
    }
   ],
   "source": [
    "#Comparación de métodos\n",
    "\n",
    "print(\"\\nComparación de métodos de validación cruzada:\")\n",
    "print(\"k-Fold:\", np.mean(cross_val_score(model, X, y, cv=KFold(n_splits=5, shuffle=True, random_state=42))))\n",
    "print(\"LOOCV:\", np.mean(cross_val_score(model, X, y, cv=LeaveOneOut())))\n",
    "print(\"Random Subsampling:\", np.mean(cross_val_score(model, X, y, cv=ShuffleSplit(n_splits=10, test_size=0.2, random_state=42))))"
   ]
  }
 ],
 "metadata": {
  "kernelspec": {
   "display_name": "base",
   "language": "python",
   "name": "python3"
  },
  "language_info": {
   "codemirror_mode": {
    "name": "ipython",
    "version": 3
   },
   "file_extension": ".py",
   "mimetype": "text/x-python",
   "name": "python",
   "nbconvert_exporter": "python",
   "pygments_lexer": "ipython3",
   "version": "3.12.7"
  }
 },
 "nbformat": 4,
 "nbformat_minor": 5
}
