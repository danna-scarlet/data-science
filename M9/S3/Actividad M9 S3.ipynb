{
  "nbformat": 4,
  "nbformat_minor": 0,
  "metadata": {
    "colab": {
      "provenance": []
    },
    "kernelspec": {
      "name": "python3",
      "display_name": "Python 3"
    },
    "language_info": {
      "name": "python"
    }
  },
  "cells": [
    {
      "cell_type": "code",
      "execution_count": 1,
      "metadata": {
        "id": "hbv33ED_IkER"
      },
      "outputs": [],
      "source": [
        "# Analísis de películas más vistas en Chile con Spark RDDs\n",
        "\n",
        "from pyspark import SparkContext\n",
        "\n",
        "import sys\n",
        "import os\n",
        "os.environ[\"PYSPARK_PYTHON\"] = sys.executable\n",
        "\n",
        "# 1. Carga y preprocesamiento de datos\n",
        "# Check if SparkContext is already initialized\n",
        "if 'sc' not in globals() or sc is None:\n",
        "    sc = SparkContext(appName=\"PeliculasMasVistasChile\")\n",
        "\n",
        "# Cambia la ruta si es necesario\n",
        "data_path = \"peliculas_mas_vistas.csv\"\n",
        "rdd = sc.textFile(data_path)\n",
        "\n",
        "# Eliminar encabezado y convertir a tuplas\n",
        "header = rdd.first()\n",
        "rdd = rdd.filter(lambda x: x != header)\n",
        "def parse_row(row):\n",
        "    usuario, pelicula, minutos, rating, genero = row.split(\",\")\n",
        "    return (usuario, pelicula, int(minutos), float(rating), genero)\n",
        "rdd = rdd.map(parse_row)"
      ]
    },
    {
      "cell_type": "code",
      "source": [
        "# 2. Cantidad de visualizaciones por película\n",
        "vis_por_pelicula = rdd.map(lambda x: (x[1], 1)).reduceByKey(lambda a, b: a + b) # a = a + b\n",
        "print(\"Visualizaciones por película:\")\n",
        "for pelicula, count in vis_por_pelicula.collect():\n",
        "    print(f\"{pelicula}: {count}\")\n"
      ],
      "metadata": {
        "colab": {
          "base_uri": "https://localhost:8080/"
        },
        "id": "5as-mp-rI0mA",
        "outputId": "d91905cf-a237-47c1-ca27-cefd5776b50c"
      },
      "execution_count": 2,
      "outputs": [
        {
          "output_type": "stream",
          "name": "stdout",
          "text": [
            "Visualizaciones por película:\n",
            "Acción Extrema: 3\n",
            "Drama Profundo: 2\n",
            "Documental de la Naturaleza: 1\n",
            "La Gran Aventura: 2\n",
            "Romance Inesperado: 2\n"
          ]
        }
      ]
    },
    {
      "cell_type": "code",
      "source": [
        "# 3. Tiempo total de visualización por película (top 3)\n",
        "tiempo_por_pelicula = rdd.map(lambda x: (x[1], x[2])).reduceByKey(lambda a, b: a + b)\n",
        "top3 = tiempo_por_pelicula.takeOrdered(3, key=lambda x: -x[1])\n",
        "print(\"Top 3 películas por minutos vistos:\")\n",
        "for pelicula, minutos in top3:\n",
        "    print(f\"{pelicula}: {minutos} min\")"
      ],
      "metadata": {
        "colab": {
          "base_uri": "https://localhost:8080/"
        },
        "id": "g8tD1AewI9H0",
        "outputId": "605738b0-879b-4dc2-cd66-46fef22d1dd0"
      },
      "execution_count": 4,
      "outputs": [
        {
          "output_type": "stream",
          "name": "stdout",
          "text": [
            "Top 3 películas por minutos vistos:\n",
            "Drama Profundo: 290 min\n",
            "Acción Extrema: 275 min\n",
            "Romance Inesperado: 250 min\n"
          ]
        }
      ]
    },
    {
      "cell_type": "code",
      "source": [
        "# 4. Películas con rating promedio > 4.5\n",
        "rating_sum_count = rdd.map(lambda x: (x[1], (x[3], 1))).reduceByKey(lambda a, b: (a[0]+b[0], a[1]+b[1]))\n",
        "rating_promedio = rating_sum_count.mapValues(lambda x: x[0]/x[1])\n",
        "peliculas_rating_alto = rating_promedio.filter(lambda x: x[1] > 4.5)\n",
        "print(\"Películas con rating promedio > 4.5:\")\n",
        "for pelicula, rating in peliculas_rating_alto.collect():\n",
        "    print(f\"{pelicula}: {rating:.2f}\")"
      ],
      "metadata": {
        "colab": {
          "base_uri": "https://localhost:8080/"
        },
        "id": "tukbQF8dI_gC",
        "outputId": "56ddb949-7f7e-4b98-db3e-c525d957b3b5"
      },
      "execution_count": 6,
      "outputs": [
        {
          "output_type": "stream",
          "name": "stdout",
          "text": [
            "Películas con rating promedio > 4.5:\n",
            "Drama Profundo: 4.85\n",
            "Romance Inesperado: 4.55\n"
          ]
        }
      ]
    },
    {
      "cell_type": "code",
      "source": [
        "# 5. Promedio de minutos vistos por género\n",
        "genero_minutos = rdd.map(lambda x: (x[4], (x[2], 1))).reduceByKey(lambda a, b: (a[0]+b[0], a[1]+b[1]))\n",
        "promedio_minutos_genero = genero_minutos.mapValues(lambda x: x[0]/x[1])\n",
        "print(\"Promedio de minutos vistos por género:\")\n",
        "for genero, prom in promedio_minutos_genero.collect():\n",
        "    print(f\"{genero}: {prom:.2f} min\")\n"
      ],
      "metadata": {
        "colab": {
          "base_uri": "https://localhost:8080/"
        },
        "id": "9AJbV6V9JCAl",
        "outputId": "a0ade0a8-7a03-44d5-95ed-5e62206fa04e"
      },
      "execution_count": 8,
      "outputs": [
        {
          "output_type": "stream",
          "name": "stdout",
          "text": [
            "Promedio de minutos vistos por género:\n",
            "Animación: 115.00 min\n",
            "Acción: 91.67 min\n",
            "Drama: 145.00 min\n",
            "Romance: 125.00 min\n",
            "Documental: 95.00 min\n"
          ]
        }
      ]
    },
    {
      "cell_type": "code",
      "source": [
        "# 6. Usuarios con mayor tiempo de visualización acumulado (top 3)\n",
        "tiempo_usuario = rdd.map(lambda x: (x[0], x[2])).reduceByKey(lambda a, b: a + b)\n",
        "top3_usuarios = tiempo_usuario.takeOrdered(3, key=lambda x: -x[1])\n",
        "print(\"Top 3 usuarios por minutos vistos:\")\n",
        "for usuario, minutos in top3_usuarios:\n",
        "    print(f\"{usuario}: {minutos} min\")"
      ],
      "metadata": {
        "colab": {
          "base_uri": "https://localhost:8080/"
        },
        "id": "Jg9WlsQQJDvO",
        "outputId": "e7d5dac5-8cf0-4439-cac0-c8755c90a3f8"
      },
      "execution_count": 10,
      "outputs": [
        {
          "output_type": "stream",
          "name": "stdout",
          "text": [
            "Top 3 usuarios por minutos vistos:\n",
            "Carla: 250 min\n",
            "Luis: 235 min\n",
            "Pedro: 230 min\n"
          ]
        }
      ]
    },
    {
      "cell_type": "code",
      "source": [
        "# 7. Género más popular (más visualizaciones)\n",
        "genero_vis = rdd.map(lambda x: (x[4], 1)).reduceByKey(lambda a, b: a + b)\n",
        "genero_popular = genero_vis.takeOrdered(1, key=lambda x: -x[1])[0]\n",
        "print(f\"Género más popular: {genero_popular[0]} con {genero_popular[1]} visualizaciones\")"
      ],
      "metadata": {
        "colab": {
          "base_uri": "https://localhost:8080/"
        },
        "id": "K1qgcaASJF8Z",
        "outputId": "dffda459-9807-4cf5-b5e9-d2f494b8eb8f"
      },
      "execution_count": 12,
      "outputs": [
        {
          "output_type": "stream",
          "name": "stdout",
          "text": [
            "Género más popular: Acción con 3 visualizaciones\n"
          ]
        }
      ]
    },
    {
      "cell_type": "code",
      "source": [
        "# 8. Película con mayor rating en cada género\n",
        "# (película, (rating, 1, género))\n",
        "genero_pelicula_rating = rdd.map(lambda x: ((x[4], x[1]), (x[3], 1)))\n",
        "sum_count = genero_pelicula_rating.reduceByKey(lambda a, b: (a[0]+b[0], a[1]+b[1]))\n",
        "promedio = sum_count.mapValues(lambda x: x[0]/x[1])\n",
        "# (género, (película, promedio))\n",
        "genero_peliculas = promedio.map(lambda x: (x[0][0], (x[0][1], x[1])))\n",
        "from operator import itemgetter\n",
        "def max_rating(a, b):\n",
        "    return a if a[1] > b[1] else b\n",
        "max_por_genero = genero_peliculas.reduceByKey(max_rating)\n",
        "print(\"Película con mayor rating promedio por género:\")\n",
        "for genero, (pelicula, rating) in max_por_genero.collect():\n",
        "    print(f\"{genero}: {pelicula} ({rating:.2f})\")"
      ],
      "metadata": {
        "colab": {
          "base_uri": "https://localhost:8080/"
        },
        "id": "1-jaAq0RJH5w",
        "outputId": "ecf5927f-90b5-4c19-dc44-7891323d03de"
      },
      "execution_count": 14,
      "outputs": [
        {
          "output_type": "stream",
          "name": "stdout",
          "text": [
            "Película con mayor rating promedio por género:\n",
            "Acción: Acción Extrema (4.00)\n",
            "Drama: Drama Profundo (4.85)\n",
            "Documental: Documental de la Naturaleza (4.10)\n",
            "Animación: La Gran Aventura (4.35)\n",
            "Romance: Romance Inesperado (4.55)\n"
          ]
        }
      ]
    },
    {
      "cell_type": "code",
      "source": [
        "# 9. Distribución de ratings\n",
        "# (película, (rating, 1))\n",
        "peliculas_rating = rdd.map(lambda x: (x[1], (x[3], 1))).reduceByKey(lambda a, b: (a[0]+b[0], a[1]+b[1]))\n",
        "promedios = peliculas_rating.mapValues(lambda x: x[0]/x[1])\n",
        "def rating_bin(r):\n",
        "    if 1 <= r < 2:\n",
        "        return '1-2'\n",
        "    elif 2 <= r < 3:\n",
        "        return '2-3'\n",
        "    elif 3 <= r < 4:\n",
        "        return '3-4'\n",
        "    elif 4 <= r <= 5:\n",
        "        return '4-5'\n",
        "    else:\n",
        "        return 'otro'\n",
        "dist = promedios.map(lambda x: (rating_bin(x[1]), 1)).reduceByKey(lambda a, b: a + b)\n",
        "print(\"Distribución de ratings promedio de películas:\")\n",
        "for rango, count in dist.collect():\n",
        "    print(f\"{rango}: {count}\")"
      ],
      "metadata": {
        "colab": {
          "base_uri": "https://localhost:8080/"
        },
        "id": "YjZ3Xf-cJJ97",
        "outputId": "6af8f62a-cddc-4038-f1d5-6f54a9259a70"
      },
      "execution_count": 16,
      "outputs": [
        {
          "output_type": "stream",
          "name": "stdout",
          "text": [
            "Distribución de ratings promedio de películas:\n",
            "4-5: 5\n"
          ]
        }
      ]
    },
    {
      "cell_type": "code",
      "source": [
        "# 10. Explicación de optimización\n",
        "print(\"\"\"\n",
        "Lazy evaluation en Spark significa que las transformaciones no se ejecutan hasta que se llama a una acción (como collect, count, take). Esto permite a Spark optimizar el plan de ejecución.\n",
        "Para optimizar, podemos usar persist() o cache() en RDDs reutilizados varias veces, por ejemplo:\n",
        "    rdd.persist()\n",
        "Esto evita recalcular el RDD en cada acción y mejora el rendimiento si la memoria lo permite.\n",
        "\"\"\")\n",
        "\n",
        "sc.stop()"
      ],
      "metadata": {
        "colab": {
          "base_uri": "https://localhost:8080/"
        },
        "id": "fhlur9ZNJLec",
        "outputId": "69c7f055-b2d2-46b8-a30c-5272e50261fc"
      },
      "execution_count": 17,
      "outputs": [
        {
          "output_type": "stream",
          "name": "stdout",
          "text": [
            "\n",
            "Lazy evaluation en Spark significa que las transformaciones no se ejecutan hasta que se llama a una acción (como collect, count, take). Esto permite a Spark optimizar el plan de ejecución.\n",
            "Para optimizar, podemos usar persist() o cache() en RDDs reutilizados varias veces, por ejemplo:\n",
            "    rdd.persist()\n",
            "Esto evita recalcular el RDD en cada acción y mejora el rendimiento si la memoria lo permite.\n",
            "\n"
          ]
        }
      ]
    }
  ]
}