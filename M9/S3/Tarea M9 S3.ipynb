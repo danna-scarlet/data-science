{
  "nbformat": 4,
  "nbformat_minor": 0,
  "metadata": {
    "colab": {
      "provenance": []
    },
    "kernelspec": {
      "name": "python3",
      "display_name": "Python 3"
    },
    "language_info": {
      "name": "python"
    }
  },
  "cells": [
    {
      "cell_type": "code",
      "execution_count": 6,
      "metadata": {
        "id": "6Dw-SPFGwLZe"
      },
      "outputs": [],
      "source": [
        "from pyspark.sql import SparkSession\n",
        "\n",
        "import sys\n",
        "import os\n",
        "os.environ[\"PYSPARK_PYTHON\"] = sys.executable"
      ]
    },
    {
      "cell_type": "code",
      "source": [
        "# Crear sesión de Spark\n",
        "spark = SparkSession.builder.appName(\"AnalisisTransacciones\").getOrCreate()"
      ],
      "metadata": {
        "id": "FPnNVU24wvWR"
      },
      "execution_count": 7,
      "outputs": []
    },
    {
      "cell_type": "code",
      "source": [
        "# 2. Cargar el archivo CSV\n",
        "file_path = 'transacciones 2.csv'\n",
        "df_raw = spark.read.csv(file_path, header=True, inferSchema=True)\n",
        "rdd = df_raw.rdd"
      ],
      "metadata": {
        "id": "mzyjgOoKwxkO"
      },
      "execution_count": 8,
      "outputs": []
    },
    {
      "cell_type": "code",
      "source": [
        "# Ver las primeras líneas\n",
        "rdd.take(5)\n",
        "\n",
        "header = rdd.first()\n",
        "rdd = rdd.filter(lambda x: x != header)\n",
        "\n",
        "rdd_mapeado = rdd.map(lambda x: (x[1], float(x[2]), x[4]))\n",
        "\n",
        "rdd_mapeado.take(5)\n",
        "\n",
        "rdd_filtrado = rdd_mapeado.filter(lambda x: x[1] > 1000)\n",
        "rdd_filtrado.collect()\n",
        "\n",
        "rdd_gastos = rdd_mapeado.map(lambda x: (x[0], x[1])) \\\n",
        ".reduceByKey(lambda x, y: x + y)\n",
        "\n",
        "rdd_gastos.collect()\n",
        "\n",
        "montos = rdd_mapeado.map(lambda x: x[1])\n",
        "total = montos.sum()\n",
        "promedio = montos.mean()\n",
        "desviacion = montos.stdev()\n",
        "\n",
        "print(f\"Total: {total}, Promedio: {promedio}, Desviación estandar: {desviacion}\")\n",
        "\n",
        "top_usuarios = rdd_gastos.sortBy(lambda x: x[1], ascending=False).take(3)\n",
        "print(top_usuarios)"
      ],
      "metadata": {
        "colab": {
          "base_uri": "https://localhost:8080/"
        },
        "id": "SikCiHFAw1oM",
        "outputId": "6988d174-9b26-4fc9-c784-dcef95dca36c"
      },
      "execution_count": 10,
      "outputs": [
        {
          "output_type": "stream",
          "name": "stdout",
          "text": [
            "Total: 10200.0, Promedio: 1457.142857142857, Desviación estandar: 660.8590574983074\n",
            "[('Carla', 3800.0), ('Ana', 2500.0), ('Pedro', 2200.0)]\n"
          ]
        }
      ]
    }
  ]
}