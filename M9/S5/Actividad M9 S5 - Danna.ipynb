{
  "nbformat": 4,
  "nbformat_minor": 0,
  "metadata": {
    "colab": {
      "provenance": []
    },
    "kernelspec": {
      "name": "python3",
      "display_name": "Python 3"
    },
    "language_info": {
      "name": "python"
    }
  },
  "cells": [
    {
      "cell_type": "code",
      "execution_count": null,
      "metadata": {
        "colab": {
          "base_uri": "https://localhost:8080/"
        },
        "id": "kyWsHvgTLH_h",
        "outputId": "a75c64e8-a8c6-4968-e6b6-33fffae74216"
      },
      "outputs": [
        {
          "output_type": "stream",
          "name": "stdout",
          "text": [
            "+--------------------+-----------+---------+---+------------+\n",
            "|        Ingredientes|Hidratacion|Absorcion|SPF|Tipo_de_Piel|\n",
            "+--------------------+-----------+---------+---+------------+\n",
            "|   Ácido Hialurónico|       Alto|    Medio|  0|        Seco|\n",
            "|             Retinol|       Bajo|     Alto|  0|       Graso|\n",
            "|          Vitamina C|      Medio|    Medio| 30|       Mixto|\n",
            "|           Aloe Vera|       Alto|     Bajo| 15|    Sensible|\n",
            "|         Niacinamida|      Medio|    Medio|  0|       Mixto|\n",
            "|           Ceramidas|       Alto|     Bajo|  0|        Seco|\n",
            "|    Ácido Salicílico|       Bajo|     Alto|  0|       Graso|\n",
            "|   Centella Asiática|      Medio|    Medio| 20|    Sensible|\n",
            "|Extracto de Té Verde|      Medio|     Alto|  0|       Mixto|\n",
            "|   Manteca de Karité|       Alto|     Bajo|  0|        Seco|\n",
            "| Extracto de Regaliz|      Medio|    Medio| 15|    Sensible|\n",
            "|          Vitamina E|       Alto|    Medio| 25|        Seco|\n",
            "|           Bakuchiol|       Bajo|    Medio|  0|       Mixto|\n",
            "|        Ácido Kójico|      Medio|     Alto|  0|       Graso|\n",
            "|       Beta-Glucanos|       Alto|     Bajo| 10|    Sensible|\n",
            "|         Resveratrol|      Medio|    Medio| 20|       Mixto|\n",
            "|            Péptidos|       Bajo|     Alto|  0|       Graso|\n",
            "|           Escualano|       Alto|    Medio|  0|        Seco|\n",
            "|            Arbutina|      Medio|     Alto|  0|       Mixto|\n",
            "|                Urea|       Alto|     Bajo| 15|    Sensible|\n",
            "+--------------------+-----------+---------+---+------------+\n",
            "\n",
            "+-------+-----------------+\n",
            "|summary|              SPF|\n",
            "+-------+-----------------+\n",
            "|  count|               20|\n",
            "|   mean|              7.5|\n",
            "| stddev|10.19545822516343|\n",
            "|    min|                0|\n",
            "|    max|               30|\n",
            "+-------+-----------------+\n",
            "\n"
          ]
        }
      ],
      "source": [
        "from pyspark.sql import SparkSession\n",
        "from pyspark.sql.functions import when, col\n",
        "from pyspark.ml.feature import StringIndexer, VectorAssembler\n",
        "from pyspark.ml.classification import DecisionTreeClassifier\n",
        "from pyspark.ml.evaluation import MulticlassClassificationEvaluator\n",
        "\n",
        "# 1. Carga y exploración de datos\n",
        "spark = SparkSession.builder.appName(\"SkinCareML\").getOrCreate()\n",
        "df = spark.read.csv(\"skincare_productos.csv\", header=True, inferSchema=True)\n",
        "df.show()\n",
        "df.describe([\"SPF\"]).show()"
      ]
    },
    {
      "cell_type": "code",
      "source": [
        "# 2. Preprocesamiento\n",
        "# Mapear variables categóricas a numéricas\n",
        "hidratacion_map = {\"Bajo\": 0, \"Medio\": 1, \"Alto\": 2}\n",
        "absorcion_map = {\"Bajo\": 0, \"Medio\": 1, \"Alto\": 2}\n",
        "tipo_piel_map = {\"Seco\": 0, \"Graso\": 1, \"Mixto\": 2, \"Sensible\": 3}\n",
        "df = df.withColumn(\"Hidratacion_num\", when(col(\"Hidratacion\") == \"Bajo\", 0).when(col(\"Hidratacion\") == \"Medio\", 1).when(col(\"Hidratacion\") == \"Alto\", 2))\n",
        "df = df.withColumn(\"Absorcion_num\", when(col(\"Absorcion\") == \"Bajo\", 0).when(col(\"Absorcion\") == \"Medio\", 1).when(col(\"Absorcion\") == \"Alto\", 2))\n",
        "df = df.withColumn(\"TipoPiel_num\", when(col(\"Tipo_de_Piel\") == \"Seco\", 0).when(col(\"Tipo_de_Piel\") == \"Graso\", 1).when(col(\"Tipo_de_Piel\") == \"Mixto\", 2).when(col(\"Tipo_de_Piel\") == \"Sensible\", 3))\n",
        "\n",
        "# VectorAssembler para features\n",
        "assembler = VectorAssembler(inputCols=[\"Hidratacion_num\", \"Absorcion_num\", \"SPF\"], outputCol=\"features\")\n",
        "df = assembler.transform(df)"
      ],
      "metadata": {
        "id": "LKN23uqRLReK"
      },
      "execution_count": null,
      "outputs": []
    },
    {
      "cell_type": "code",
      "source": [
        "# 3. División de datos y entrenamiento\n",
        "train, test = df.randomSplit([0.8, 0.2], seed=42)\n",
        "classifier = DecisionTreeClassifier(labelCol=\"TipoPiel_num\", featuresCol=\"features\")\n",
        "model = classifier.fit(train)\n"
      ],
      "metadata": {
        "id": "Jl8dQ3ZULRa4"
      },
      "execution_count": null,
      "outputs": []
    },
    {
      "cell_type": "code",
      "source": [
        "# 4. Predicción y evaluación\n",
        "predictions = model.transform(test)\n",
        "predictions.select(\"Ingredientes\", \"Tipo_de_Piel\", \"prediction\").show()\n",
        "evaluator = MulticlassClassificationEvaluator(labelCol=\"TipoPiel_num\", predictionCol=\"prediction\", metricName=\"accuracy\")\n",
        "accuracy = evaluator.evaluate(predictions)\n",
        "print(f\"Precisión del modelo: {accuracy:.2f}\")\n",
        "\n",
        "# 5. Análisis de resultados y mejoras\n",
        "print(\"\"\"\n",
        "El modelo de árbol de decisión alcanzó una precisión que depende de la cantidad de datos y su diversidad. Para mejorar la precisión se pueden probar algoritmos como Random Forest, ajustar hiperparámetros, o incluir más variables (por ejemplo, usando ingredientes codificados con OneHotEncoder).\n",
        "\"\"\")\n",
        "\n",
        "spark.stop()"
      ],
      "metadata": {
        "colab": {
          "base_uri": "https://localhost:8080/"
        },
        "id": "0XSXzeZhLVMq",
        "outputId": "fd41b5ba-cd6a-4a97-b33b-9859838f9697"
      },
      "execution_count": null,
      "outputs": [
        {
          "output_type": "stream",
          "name": "stdout",
          "text": [
            "+--------------------+------------+----------+\n",
            "|        Ingredientes|Tipo_de_Piel|prediction|\n",
            "+--------------------+------------+----------+\n",
            "|           Bakuchiol|       Mixto|       2.0|\n",
            "|           Escualano|        Seco|       0.0|\n",
            "|Extracto de Té Verde|       Mixto|       1.0|\n",
            "|             Retinol|       Graso|       1.0|\n",
            "|    Ácido Salicílico|       Graso|       1.0|\n",
            "+--------------------+------------+----------+\n",
            "\n",
            "Precisión del modelo: 0.80\n",
            "\n",
            "El modelo de árbol de decisión alcanzó una precisión que depende de la cantidad de datos y su diversidad. Para mejorar la precisión se pueden probar algoritmos como Random Forest, ajustar hiperparámetros, o incluir más variables (por ejemplo, usando ingredientes codificados con OneHotEncoder).\n",
            "\n"
          ]
        }
      ]
    }
  ]
}